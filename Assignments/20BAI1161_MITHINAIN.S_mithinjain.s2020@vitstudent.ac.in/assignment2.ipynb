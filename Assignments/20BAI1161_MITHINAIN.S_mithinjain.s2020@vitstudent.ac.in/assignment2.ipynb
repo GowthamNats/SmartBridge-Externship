{
 "cells": [
  {
   "cell_type": "code",
   "execution_count": 90,
   "metadata": {},
   "outputs": [
    {
     "name": "stdout",
     "output_type": "stream",
     "text": [
      "(200, 6)\n",
      "   Age Sex      BP Cholesterol  Na_to_K   Drug\n",
      "0   23   F    HIGH        HIGH   25.355  DrugY\n",
      "1   47   M     LOW        HIGH   13.093  drugC\n",
      "2   47   M     LOW        HIGH   10.114  drugC\n",
      "3   28   F  NORMAL        HIGH    7.798  drugX\n",
      "4   61   F     LOW        HIGH   18.043  DrugY\n",
      "Age            0\n",
      "Sex            0\n",
      "BP             0\n",
      "Cholesterol    0\n",
      "Na_to_K        0\n",
      "Drug           0\n",
      "dtype: int64\n"
     ]
    }
   ],
   "source": [
    "import pandas as pd\n",
    "from sklearn.model_selection import train_test_split\n",
    "from sklearn.preprocessing import LabelEncoder, StandardScaler\n",
    "\n",
    "# Step 2: Load the dataset\n",
    "dataset = pd.read_csv(r\"C:\\Users\\mithj\\Downloads\\drug200.csv\")\n",
    "\n",
    "# Step 3: Explore the dataset\n",
    "print(dataset.shape)\n",
    "print(dataset.head())\n",
    "\n",
    "# Step 4: Handle missing values\n",
    "print(dataset.isnull().sum())\n",
    "\n",
    "# Step 5: Encode categorical variables\n",
    "label_encoder = LabelEncoder()\n",
    "dataset[\"Sex\"] = label_encoder.fit_transform(dataset[\"Sex\"])\n",
    "dataset[\"BP\"] = label_encoder.fit_transform(dataset[\"BP\"])\n",
    "dataset[\"Cholesterol\"] = label_encoder.fit_transform(dataset[\"Cholesterol\"])\n",
    "dataset[\"Drug\"] = label_encoder.fit_transform(dataset[\"Drug\"])\n",
    "\n",
    "# Step 6: Split the dataset\n",
    "X = dataset.drop(\"Drug\", axis=1)\n",
    "y = dataset[\"Drug\"]\n",
    "X_train, X_test, y_train, y_test = train_test_split(\n",
    "    X, y, test_size=0.2, random_state=42\n",
    ")\n",
    "\n",
    "# Step 7: Normalize or scale the numerical features\n",
    "scaler = StandardScaler()\n",
    "X_train_scaled = scaler.fit_transform(X_train)\n",
    "X_test_scaled = scaler.transform(X_test)"
   ]
  },
  {
   "cell_type": "code",
   "execution_count": 91,
   "metadata": {},
   "outputs": [
    {
     "name": "stdout",
     "output_type": "stream",
     "text": [
      "Epoch 1/10\n",
      "5/5 [==============================] - 1s 1ms/step - loss: 1.5127 - accuracy: 0.5188\n",
      "Epoch 2/10\n",
      "5/5 [==============================] - 0s 1ms/step - loss: 1.2747 - accuracy: 0.6500\n",
      "Epoch 3/10\n",
      "5/5 [==============================] - 0s 1ms/step - loss: 1.0665 - accuracy: 0.6562\n",
      "Epoch 4/10\n",
      "5/5 [==============================] - 0s 2ms/step - loss: 0.8831 - accuracy: 0.7063\n",
      "Epoch 5/10\n",
      "5/5 [==============================] - 0s 2ms/step - loss: 0.7052 - accuracy: 0.7063\n",
      "Epoch 6/10\n",
      "5/5 [==============================] - 0s 2ms/step - loss: 0.5543 - accuracy: 0.8375\n",
      "Epoch 7/10\n",
      "5/5 [==============================] - 0s 2ms/step - loss: 0.4304 - accuracy: 0.8750\n",
      "Epoch 8/10\n",
      "5/5 [==============================] - 0s 1ms/step - loss: 0.3322 - accuracy: 0.9312\n",
      "Epoch 9/10\n",
      "5/5 [==============================] - 0s 2ms/step - loss: 0.2462 - accuracy: 0.9563\n",
      "Epoch 10/10\n",
      "5/5 [==============================] - 0s 2ms/step - loss: 0.1864 - accuracy: 0.9750\n",
      "2/2 [==============================] - 0s 3ms/step - loss: 0.1985 - accuracy: 0.9750\n",
      "Test Loss: 0.19853349030017853\n",
      "Test Accuracy: 0.9750000238418579\n"
     ]
    }
   ],
   "source": [
    "# Step 1: Import the necessary libraries and load the dataset\n",
    "import numpy as np\n",
    "from keras.models import Sequential\n",
    "from keras.layers import Dense\n",
    "\n",
    "# Step 2: Define the model architecture\n",
    "num_classes = len(label_encoder.classes_)\n",
    "\n",
    "model = Sequential()\n",
    "model.add(Dense(units=64, activation='relu', input_dim=X_train_scaled.shape[1]))\n",
    "model.add(Dense(units=128, activation='relu'))\n",
    "model.add(Dense(units=128, activation='relu'))\n",
    "model.add(Dense(units=128, activation='relu'))\n",
    "model.add(Dense(units=num_classes, activation='softmax'))\n",
    "\n",
    "# Step 3: Compile the model\n",
    "model.compile(optimizer='adam', loss='sparse_categorical_crossentropy', metrics=['accuracy'])\n",
    "\n",
    "# Step 4: Train the model\n",
    "model.fit(X_train_scaled, y_train, epochs=10, batch_size=32)\n",
    "\n",
    "# Step 5: Evaluate the model\n",
    "loss, accuracy = model.evaluate(X_test_scaled, y_test)\n",
    "print('Test Loss:', loss)\n",
    "print('Test Accuracy:', accuracy)\n"
   ]
  },
  {
   "cell_type": "code",
   "execution_count": 92,
   "metadata": {},
   "outputs": [
    {
     "name": "stdout",
     "output_type": "stream",
     "text": [
      "1/1 [==============================] - 0s 43ms/step\n",
      "Predicted Labels: [0 0 0 0 1 0 0 0 0 1 0 0 0 0 1 1 0 0 0 0 0 0 0 0 0 1 0 0 0 0 1 0 0 0 0 1 0\n",
      " 0 0 0 1 0 0 0 0 1 0 0 0 0]\n"
     ]
    }
   ],
   "source": [
    "# Step 1: Generate random input data\n",
    "num_samples = 10\n",
    "num_features = X_train_scaled.shape[1]\n",
    "random_input = np.random.rand(num_samples, num_features)  # Generate random data\n",
    "\n",
    "# Step 2: Preprocess the random input data\n",
    "scaler = StandardScaler()\n",
    "random_input_scaled = scaler.fit_transform(random_input)\n",
    "\n",
    "# Step 3: Make predictions with the model\n",
    "predictions = model.predict(random_input_scaled)\n",
    "predicted_labels = np.round(predictions.flatten()).astype(int)\n",
    "\n",
    "# Step 4: Print the predicted labels\n",
    "print(\"Predicted Labels:\", predicted_labels)\n"
   ]
  }
 ],
 "metadata": {
  "kernelspec": {
   "display_name": "Python 3",
   "language": "python",
   "name": "python3"
  },
  "language_info": {
   "codemirror_mode": {
    "name": "ipython",
    "version": 3
   },
   "file_extension": ".py",
   "mimetype": "text/x-python",
   "name": "python",
   "nbconvert_exporter": "python",
   "pygments_lexer": "ipython3",
   "version": "3.11.3"
  },
  "orig_nbformat": 4
 },
 "nbformat": 4,
 "nbformat_minor": 2
}
