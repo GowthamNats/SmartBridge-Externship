{
 "cells": [
  {
   "cell_type": "code",
   "execution_count": 8,
   "metadata": {},
   "outputs": [],
   "source": [
    "import numpy as np\n",
    "import pandas as pd\n",
    "import tensorflow as tf\n",
    "from tensorflow.keras.preprocessing.image import ImageDataGenerator\n",
    "from tensorflow.keras.models import Sequential\n",
    "from tensorflow.keras.layers import Conv2D, MaxPooling2D, Flatten, Dense"
   ]
  },
  {
   "cell_type": "code",
   "execution_count": 9,
   "metadata": {},
   "outputs": [
    {
     "name": "stdout",
     "output_type": "stream",
     "text": [
      "Found 150 images belonging to 16 classes.\n",
      "Found 157 images belonging to 16 classes.\n"
     ]
    }
   ],
   "source": [
    "# Assuming the dataset is downloaded and extracted in a directory named \"bird_dataset\"\n",
    "train_dir = r'C:\\Users\\mithj\\Downloads\\archive\\train_data'\n",
    "test_dir = r'C:\\Users\\mithj\\Downloads\\archive\\test_data'\n",
    "\n",
    "# Data augmentation and normalization\n",
    "train_datagen = ImageDataGenerator(\n",
    "    rescale=1./255,\n",
    "    shear_range=0.2,\n",
    "    zoom_range=0.2,\n",
    "    horizontal_flip=True\n",
    ")\n",
    "\n",
    "test_datagen = ImageDataGenerator(rescale=1./255)\n",
    "\n",
    "# Generating the training set\n",
    "train_set = train_datagen.flow_from_directory(\n",
    "    train_dir,\n",
    "    target_size=(64, 64),\n",
    "    batch_size=32,\n",
    "    class_mode='categorical'\n",
    ")\n",
    "\n",
    "# Generating the test set\n",
    "test_set = test_datagen.flow_from_directory(\n",
    "    test_dir,\n",
    "    target_size=(64, 64),\n",
    "    batch_size=32,\n",
    "    class_mode='categorical'\n",
    ")"
   ]
  },
  {
   "cell_type": "code",
   "execution_count": 10,
   "metadata": {},
   "outputs": [],
   "source": [
    "model = Sequential()\n",
    "\n",
    "model.add(Conv2D(32, (3, 3), input_shape=(64, 64, 3), activation='relu'))\n",
    "model.add(MaxPooling2D(pool_size=(2, 2)))\n",
    "\n",
    "model.add(Conv2D(64, (3, 3), activation='relu'))\n",
    "model.add(MaxPooling2D(pool_size=(2, 2)))\n",
    "\n",
    "model.add(Flatten())\n",
    "\n",
    "model.add(Dense(units=128, activation='relu'))\n",
    "model.add(Dense(units=train_set.num_classes, activation='softmax'))\n",
    "\n",
    "model.compile(optimizer='adam', loss='categorical_crossentropy', metrics=['accuracy'])"
   ]
  },
  {
   "cell_type": "code",
   "execution_count": 11,
   "metadata": {},
   "outputs": [
    {
     "name": "stdout",
     "output_type": "stream",
     "text": [
      "Epoch 1/20\n",
      "5/5 [==============================] - 26s 6s/step - loss: 2.8133 - accuracy: 0.0933 - val_loss: 2.6699 - val_accuracy: 0.1465\n",
      "Epoch 2/20\n",
      "5/5 [==============================] - 23s 5s/step - loss: 2.5603 - accuracy: 0.1867 - val_loss: 2.6163 - val_accuracy: 0.1783\n",
      "Epoch 3/20\n",
      "5/5 [==============================] - 23s 5s/step - loss: 2.4105 - accuracy: 0.2467 - val_loss: 2.6979 - val_accuracy: 0.2038\n",
      "Epoch 4/20\n",
      "5/5 [==============================] - 23s 5s/step - loss: 2.2829 - accuracy: 0.2667 - val_loss: 2.6090 - val_accuracy: 0.2166\n",
      "Epoch 5/20\n",
      "5/5 [==============================] - 28s 6s/step - loss: 2.2037 - accuracy: 0.2667 - val_loss: 2.6267 - val_accuracy: 0.2866\n",
      "Epoch 6/20\n",
      "5/5 [==============================] - 28s 7s/step - loss: 2.0737 - accuracy: 0.3600 - val_loss: 2.7891 - val_accuracy: 0.2420\n",
      "Epoch 7/20\n",
      "5/5 [==============================] - 29s 6s/step - loss: 1.9197 - accuracy: 0.4067 - val_loss: 2.7177 - val_accuracy: 0.2102\n",
      "Epoch 8/20\n",
      "5/5 [==============================] - 28s 6s/step - loss: 1.7646 - accuracy: 0.4200 - val_loss: 2.7287 - val_accuracy: 0.2293\n",
      "Epoch 9/20\n",
      "5/5 [==============================] - 28s 6s/step - loss: 1.5860 - accuracy: 0.4800 - val_loss: 2.8720 - val_accuracy: 0.2229\n",
      "Epoch 10/20\n",
      "5/5 [==============================] - 28s 6s/step - loss: 1.4516 - accuracy: 0.5533 - val_loss: 3.0511 - val_accuracy: 0.2102\n",
      "Epoch 11/20\n",
      "5/5 [==============================] - 28s 6s/step - loss: 1.2899 - accuracy: 0.6267 - val_loss: 3.0283 - val_accuracy: 0.2675\n",
      "Epoch 12/20\n",
      "5/5 [==============================] - 29s 7s/step - loss: 1.2632 - accuracy: 0.5800 - val_loss: 3.1353 - val_accuracy: 0.2739\n",
      "Epoch 13/20\n",
      "5/5 [==============================] - 30s 7s/step - loss: 1.3577 - accuracy: 0.5600 - val_loss: 3.5272 - val_accuracy: 0.2229\n",
      "Epoch 14/20\n",
      "5/5 [==============================] - 31s 7s/step - loss: 1.1448 - accuracy: 0.6467 - val_loss: 3.3220 - val_accuracy: 0.2038\n",
      "Epoch 15/20\n",
      "5/5 [==============================] - 29s 7s/step - loss: 1.0702 - accuracy: 0.6467 - val_loss: 3.7251 - val_accuracy: 0.2484\n",
      "Epoch 16/20\n",
      "5/5 [==============================] - 30s 7s/step - loss: 1.1443 - accuracy: 0.6933 - val_loss: 3.3604 - val_accuracy: 0.2675\n",
      "Epoch 17/20\n",
      "5/5 [==============================] - 30s 7s/step - loss: 0.9235 - accuracy: 0.7400 - val_loss: 3.1427 - val_accuracy: 0.3185\n",
      "Epoch 18/20\n",
      "5/5 [==============================] - 29s 7s/step - loss: 0.8321 - accuracy: 0.7800 - val_loss: 3.4169 - val_accuracy: 0.2420\n",
      "Epoch 19/20\n",
      "5/5 [==============================] - 29s 7s/step - loss: 0.6344 - accuracy: 0.8333 - val_loss: 3.6150 - val_accuracy: 0.2420\n",
      "Epoch 20/20\n",
      "5/5 [==============================] - 30s 7s/step - loss: 0.6380 - accuracy: 0.8000 - val_loss: 3.9964 - val_accuracy: 0.1847\n"
     ]
    },
    {
     "data": {
      "text/plain": [
       "<keras.callbacks.History at 0x1e6bfd44390>"
      ]
     },
     "execution_count": 11,
     "metadata": {},
     "output_type": "execute_result"
    }
   ],
   "source": [
    "model.fit(train_set, epochs=20, validation_data=test_set)"
   ]
  },
  {
   "cell_type": "code",
   "execution_count": 12,
   "metadata": {},
   "outputs": [
    {
     "name": "stdout",
     "output_type": "stream",
     "text": [
      "5/5 [==============================] - 16s 3s/step - loss: 3.9964 - accuracy: 0.1847\n",
      "Test Loss: 3.9964\n",
      "Test Accuracy: 0.1847\n"
     ]
    }
   ],
   "source": [
    "loss, accuracy = model.evaluate(test_set)\n",
    "print(f\"Test Loss: {loss:.4f}\")\n",
    "print(f\"Test Accuracy: {accuracy:.4f}\")"
   ]
  }
 ],
 "metadata": {
  "kernelspec": {
   "display_name": "Python 3",
   "language": "python",
   "name": "python3"
  },
  "language_info": {
   "codemirror_mode": {
    "name": "ipython",
    "version": 3
   },
   "file_extension": ".py",
   "mimetype": "text/x-python",
   "name": "python",
   "nbconvert_exporter": "python",
   "pygments_lexer": "ipython3",
   "version": "3.11.3"
  },
  "orig_nbformat": 4
 },
 "nbformat": 4,
 "nbformat_minor": 2
}
