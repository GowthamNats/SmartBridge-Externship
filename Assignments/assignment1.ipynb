{
 "cells": [
  {
   "cell_type": "code",
   "execution_count": 1,
   "metadata": {},
   "outputs": [
    {
     "name": "stdout",
     "output_type": "stream",
     "text": [
      "   Feature1  Feature2  Feature3  Feature4\n",
      "0  0.374540  0.950714  0.731994  0.598658\n",
      "1  0.156019  0.155995  0.058084  0.866176\n",
      "2  0.601115  0.708073  0.020584  0.969910\n",
      "3  0.832443  0.212339  0.181825  0.183405\n"
     ]
    }
   ],
   "source": [
    "#Create a pandas dataframe (DataFrame name as 'df') with numpy random values (4 features and 4 observation)\n",
    "import pandas as pd\n",
    "import numpy as np\n",
    "\n",
    "# Set the random seed for reproducibility\n",
    "np.random.seed(42)\n",
    "\n",
    "# Create a NumPy array with random values\n",
    "data = np.random.rand(4, 4)\n",
    "\n",
    "# Create a DataFrame with the random values\n",
    "df = pd.DataFrame(data, columns=['Feature1', 'Feature2', 'Feature3', 'Feature4'])\n",
    "\n",
    "# Print the DataFrame\n",
    "print(df)"
   ]
  },
  {
   "cell_type": "code",
   "execution_count": 3,
   "metadata": {},
   "outputs": [
    {
     "name": "stdout",
     "output_type": "stream",
     "text": [
      "   Random value 1  Random value 2  Random value 3  Random value 4\n",
      "0        0.374540        0.950714        0.731994        0.598658\n",
      "1        0.156019        0.155995        0.058084        0.866176\n",
      "2        0.601115        0.708073        0.020584        0.969910\n",
      "3        0.832443        0.212339        0.181825        0.183405\n"
     ]
    }
   ],
   "source": [
    "#Rename the task - 1 'df' dataframe column names to 'Random value 1', 'Random value 2', 'Random value 3' & 'Random value 4\n",
    "df = pd.DataFrame(data, columns=['Random value 1', 'Random value 2', 'Random value 3', 'Random value 4'])\n",
    "\n",
    "# Print the DataFrame\n",
    "print(df)"
   ]
  },
  {
   "cell_type": "code",
   "execution_count": 4,
   "metadata": {},
   "outputs": [
    {
     "data": {
      "text/html": [
       "<div>\n",
       "<style scoped>\n",
       "    .dataframe tbody tr th:only-of-type {\n",
       "        vertical-align: middle;\n",
       "    }\n",
       "\n",
       "    .dataframe tbody tr th {\n",
       "        vertical-align: top;\n",
       "    }\n",
       "\n",
       "    .dataframe thead th {\n",
       "        text-align: right;\n",
       "    }\n",
       "</style>\n",
       "<table border=\"1\" class=\"dataframe\">\n",
       "  <thead>\n",
       "    <tr style=\"text-align: right;\">\n",
       "      <th></th>\n",
       "      <th>Random value 1</th>\n",
       "      <th>Random value 2</th>\n",
       "      <th>Random value 3</th>\n",
       "      <th>Random value 4</th>\n",
       "    </tr>\n",
       "  </thead>\n",
       "  <tbody>\n",
       "    <tr>\n",
       "      <th>count</th>\n",
       "      <td>4.000000</td>\n",
       "      <td>4.000000</td>\n",
       "      <td>4.000000</td>\n",
       "      <td>4.000000</td>\n",
       "    </tr>\n",
       "    <tr>\n",
       "      <th>mean</th>\n",
       "      <td>0.491029</td>\n",
       "      <td>0.506780</td>\n",
       "      <td>0.248122</td>\n",
       "      <td>0.654537</td>\n",
       "    </tr>\n",
       "    <tr>\n",
       "      <th>std</th>\n",
       "      <td>0.291252</td>\n",
       "      <td>0.386153</td>\n",
       "      <td>0.329856</td>\n",
       "      <td>0.350875</td>\n",
       "    </tr>\n",
       "    <tr>\n",
       "      <th>min</th>\n",
       "      <td>0.156019</td>\n",
       "      <td>0.155995</td>\n",
       "      <td>0.020584</td>\n",
       "      <td>0.183405</td>\n",
       "    </tr>\n",
       "    <tr>\n",
       "      <th>25%</th>\n",
       "      <td>0.319910</td>\n",
       "      <td>0.198253</td>\n",
       "      <td>0.048709</td>\n",
       "      <td>0.494845</td>\n",
       "    </tr>\n",
       "    <tr>\n",
       "      <th>50%</th>\n",
       "      <td>0.487828</td>\n",
       "      <td>0.460206</td>\n",
       "      <td>0.119954</td>\n",
       "      <td>0.732417</td>\n",
       "    </tr>\n",
       "    <tr>\n",
       "      <th>75%</th>\n",
       "      <td>0.658947</td>\n",
       "      <td>0.768733</td>\n",
       "      <td>0.319367</td>\n",
       "      <td>0.892110</td>\n",
       "    </tr>\n",
       "    <tr>\n",
       "      <th>max</th>\n",
       "      <td>0.832443</td>\n",
       "      <td>0.950714</td>\n",
       "      <td>0.731994</td>\n",
       "      <td>0.969910</td>\n",
       "    </tr>\n",
       "  </tbody>\n",
       "</table>\n",
       "</div>"
      ],
      "text/plain": [
       "       Random value 1  Random value 2  Random value 3  Random value 4\n",
       "count        4.000000        4.000000        4.000000        4.000000\n",
       "mean         0.491029        0.506780        0.248122        0.654537\n",
       "std          0.291252        0.386153        0.329856        0.350875\n",
       "min          0.156019        0.155995        0.020584        0.183405\n",
       "25%          0.319910        0.198253        0.048709        0.494845\n",
       "50%          0.487828        0.460206        0.119954        0.732417\n",
       "75%          0.658947        0.768733        0.319367        0.892110\n",
       "max          0.832443        0.950714        0.731994        0.969910"
      ]
     },
     "execution_count": 4,
     "metadata": {},
     "output_type": "execute_result"
    }
   ],
   "source": [
    "#Find the descriptive statistics of the 'df' dataframe\n",
    "df.describe()"
   ]
  },
  {
   "cell_type": "code",
   "execution_count": 9,
   "metadata": {},
   "outputs": [
    {
     "name": "stdout",
     "output_type": "stream",
     "text": [
      "Null Values:\n",
      " Random value 1    0\n",
      "Random value 2    0\n",
      "Random value 3    0\n",
      "Random value 4    0\n",
      "dtype: int64\n",
      "\n",
      "Data Types:\n",
      " Random value 1    float64\n",
      "Random value 2    float64\n",
      "Random value 3    float64\n",
      "Random value 4    float64\n",
      "dtype: object\n"
     ]
    }
   ],
   "source": [
    "#Check for the null values in 'df' and find the data type of the columns.\n",
    "# Check for null values\n",
    "null_values = df.isnull().sum()\n",
    "\n",
    "# Find the data types of the columns\n",
    "data_types = df.dtypes\n",
    "\n",
    "# Print the null values and data types\n",
    "print(\"Null Values:\\n\", null_values)\n",
    "print(\"\\nData Types:\\n\", data_types)"
   ]
  },
  {
   "cell_type": "code",
   "execution_count": 11,
   "metadata": {},
   "outputs": [
    {
     "name": "stdout",
     "output_type": "stream",
     "text": [
      "Label-based Location (loc):\n",
      "    Random value 2  Random value 3\n",
      "0        0.950714        0.731994\n",
      "1        0.155995        0.058084\n",
      "2        0.708073        0.020584\n",
      "3        0.212339        0.181825\n",
      "\n",
      "Index-based Location (iloc):\n",
      "    Random value 2  Random value 3\n",
      "0        0.950714        0.731994\n",
      "1        0.155995        0.058084\n",
      "2        0.708073        0.020584\n",
      "3        0.212339        0.181825\n"
     ]
    }
   ],
   "source": [
    "#Display the 'Random value 2' & 'Random value 3' columns with location method and index location method\n",
    "# Display columns using label-based location (loc)\n",
    "loc_columns = df.loc[:, ['Random value 2', 'Random value 3']]\n",
    "print(\"Label-based Location (loc):\\n\", loc_columns)\n",
    "\n",
    "# Display columns using index-based location (iloc)\n",
    "iloc_columns = df.iloc[:, [1, 2]]\n",
    "print(\"\\nIndex-based Location (iloc):\\n\", iloc_columns)"
   ]
  }
 ],
 "metadata": {
  "kernelspec": {
   "display_name": "Python 3",
   "language": "python",
   "name": "python3"
  },
  "language_info": {
   "codemirror_mode": {
    "name": "ipython",
    "version": 3
   },
   "file_extension": ".py",
   "mimetype": "text/x-python",
   "name": "python",
   "nbconvert_exporter": "python",
   "pygments_lexer": "ipython3",
   "version": "3.11.3"
  },
  "orig_nbformat": 4
 },
 "nbformat": 4,
 "nbformat_minor": 2
}
